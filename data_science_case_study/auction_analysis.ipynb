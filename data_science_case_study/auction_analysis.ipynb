{
 "cells": [
  {
   "cell_type": "markdown",
   "metadata": {},
   "source": [
    "## Problem 1: Based on Table in above Scenario, estimate the expected win rate for a bid response at a given price (prices are listed in table). State your assumptions clearly and provide the steps on how you arrived at your answer.\n",
    "\n",
    "### So basically we have to come up with a model that can predict the win rate for a bid response at a given price. \n",
    "### The win rate is the probability that a bid response will win the auction at a given price.\n",
    "### We can use a logistic regression model to predict the win rate. The logistic regression model is a binary classification model that can predict the probability of a binary outcome. In this case, the binary outcome is whether a bid response will win the auction or not. "
   ]
  },
  {
   "cell_type": "markdown",
   "metadata": {},
   "source": [
    "## Read Input Data and Get Probaility of Winning at a Given Price"
   ]
  },
  {
   "cell_type": "code",
   "execution_count": 1,
   "metadata": {},
   "outputs": [],
   "source": [
    "# Import Packages\n",
    "import pandas as pd\n",
    "import numpy as np\n",
    "import os, sys"
   ]
  },
  {
   "cell_type": "code",
   "execution_count": 2,
   "metadata": {},
   "outputs": [],
   "source": [
    "ROOT_PATH = os.getcwd()\n",
    "DATA_PATH = os.path.join(ROOT_PATH, 'data')\n",
    "FILE_PATH = os.path.join(DATA_PATH, 'input', 'aggregate_auction.csv')"
   ]
  },
  {
   "cell_type": "code",
   "execution_count": 3,
   "metadata": {},
   "outputs": [
    {
     "data": {
      "text/html": [
       "<div>\n",
       "<style scoped>\n",
       "    .dataframe tbody tr th:only-of-type {\n",
       "        vertical-align: middle;\n",
       "    }\n",
       "\n",
       "    .dataframe tbody tr th {\n",
       "        vertical-align: top;\n",
       "    }\n",
       "\n",
       "    .dataframe thead th {\n",
       "        text-align: right;\n",
       "    }\n",
       "</style>\n",
       "<table border=\"1\" class=\"dataframe\">\n",
       "  <thead>\n",
       "    <tr style=\"text-align: right;\">\n",
       "      <th></th>\n",
       "      <th>app</th>\n",
       "      <th>bid_price</th>\n",
       "      <th>win</th>\n",
       "      <th>events</th>\n",
       "    </tr>\n",
       "  </thead>\n",
       "  <tbody>\n",
       "    <tr>\n",
       "      <th>0</th>\n",
       "      <td>A</td>\n",
       "      <td>0.01</td>\n",
       "      <td>0</td>\n",
       "      <td>100000</td>\n",
       "    </tr>\n",
       "    <tr>\n",
       "      <th>1</th>\n",
       "      <td>A</td>\n",
       "      <td>0.01</td>\n",
       "      <td>1</td>\n",
       "      <td>0</td>\n",
       "    </tr>\n",
       "    <tr>\n",
       "      <th>2</th>\n",
       "      <td>A</td>\n",
       "      <td>0.10</td>\n",
       "      <td>0</td>\n",
       "      <td>7000</td>\n",
       "    </tr>\n",
       "    <tr>\n",
       "      <th>3</th>\n",
       "      <td>A</td>\n",
       "      <td>0.10</td>\n",
       "      <td>1</td>\n",
       "      <td>3000</td>\n",
       "    </tr>\n",
       "    <tr>\n",
       "      <th>4</th>\n",
       "      <td>A</td>\n",
       "      <td>0.20</td>\n",
       "      <td>0</td>\n",
       "      <td>8000000</td>\n",
       "    </tr>\n",
       "    <tr>\n",
       "      <th>5</th>\n",
       "      <td>A</td>\n",
       "      <td>0.20</td>\n",
       "      <td>1</td>\n",
       "      <td>2000000</td>\n",
       "    </tr>\n",
       "    <tr>\n",
       "      <th>6</th>\n",
       "      <td>A</td>\n",
       "      <td>0.40</td>\n",
       "      <td>0</td>\n",
       "      <td>700000</td>\n",
       "    </tr>\n",
       "    <tr>\n",
       "      <th>7</th>\n",
       "      <td>A</td>\n",
       "      <td>0.40</td>\n",
       "      <td>1</td>\n",
       "      <td>300000</td>\n",
       "    </tr>\n",
       "    <tr>\n",
       "      <th>8</th>\n",
       "      <td>A</td>\n",
       "      <td>0.50</td>\n",
       "      <td>0</td>\n",
       "      <td>80000</td>\n",
       "    </tr>\n",
       "    <tr>\n",
       "      <th>9</th>\n",
       "      <td>A</td>\n",
       "      <td>0.50</td>\n",
       "      <td>1</td>\n",
       "      <td>20000</td>\n",
       "    </tr>\n",
       "    <tr>\n",
       "      <th>10</th>\n",
       "      <td>A</td>\n",
       "      <td>0.75</td>\n",
       "      <td>0</td>\n",
       "      <td>7000</td>\n",
       "    </tr>\n",
       "    <tr>\n",
       "      <th>11</th>\n",
       "      <td>A</td>\n",
       "      <td>0.75</td>\n",
       "      <td>1</td>\n",
       "      <td>3000</td>\n",
       "    </tr>\n",
       "    <tr>\n",
       "      <th>12</th>\n",
       "      <td>A</td>\n",
       "      <td>1.00</td>\n",
       "      <td>0</td>\n",
       "      <td>400</td>\n",
       "    </tr>\n",
       "    <tr>\n",
       "      <th>13</th>\n",
       "      <td>A</td>\n",
       "      <td>1.00</td>\n",
       "      <td>1</td>\n",
       "      <td>600</td>\n",
       "    </tr>\n",
       "    <tr>\n",
       "      <th>14</th>\n",
       "      <td>A</td>\n",
       "      <td>2.00</td>\n",
       "      <td>0</td>\n",
       "      <td>30</td>\n",
       "    </tr>\n",
       "    <tr>\n",
       "      <th>15</th>\n",
       "      <td>A</td>\n",
       "      <td>2.00</td>\n",
       "      <td>1</td>\n",
       "      <td>70</td>\n",
       "    </tr>\n",
       "    <tr>\n",
       "      <th>16</th>\n",
       "      <td>A</td>\n",
       "      <td>5.00</td>\n",
       "      <td>0</td>\n",
       "      <td>2</td>\n",
       "    </tr>\n",
       "    <tr>\n",
       "      <th>17</th>\n",
       "      <td>A</td>\n",
       "      <td>5.00</td>\n",
       "      <td>1</td>\n",
       "      <td>8</td>\n",
       "    </tr>\n",
       "    <tr>\n",
       "      <th>18</th>\n",
       "      <td>A</td>\n",
       "      <td>9.00</td>\n",
       "      <td>0</td>\n",
       "      <td>0</td>\n",
       "    </tr>\n",
       "    <tr>\n",
       "      <th>19</th>\n",
       "      <td>A</td>\n",
       "      <td>9.00</td>\n",
       "      <td>1</td>\n",
       "      <td>1</td>\n",
       "    </tr>\n",
       "  </tbody>\n",
       "</table>\n",
       "</div>"
      ],
      "text/plain": [
       "   app  bid_price  win   events\n",
       "0    A       0.01    0   100000\n",
       "1    A       0.01    1        0\n",
       "2    A       0.10    0     7000\n",
       "3    A       0.10    1     3000\n",
       "4    A       0.20    0  8000000\n",
       "5    A       0.20    1  2000000\n",
       "6    A       0.40    0   700000\n",
       "7    A       0.40    1   300000\n",
       "8    A       0.50    0    80000\n",
       "9    A       0.50    1    20000\n",
       "10   A       0.75    0     7000\n",
       "11   A       0.75    1     3000\n",
       "12   A       1.00    0      400\n",
       "13   A       1.00    1      600\n",
       "14   A       2.00    0       30\n",
       "15   A       2.00    1       70\n",
       "16   A       5.00    0        2\n",
       "17   A       5.00    1        8\n",
       "18   A       9.00    0        0\n",
       "19   A       9.00    1        1"
      ]
     },
     "execution_count": 3,
     "metadata": {},
     "output_type": "execute_result"
    }
   ],
   "source": [
    "# Read Input Table\n",
    "auction_events = pd.read_csv(FILE_PATH)\n",
    "auction_events"
   ]
  },
  {
   "cell_type": "code",
   "execution_count": 4,
   "metadata": {},
   "outputs": [
    {
     "data": {
      "text/plain": [
       "10"
      ]
     },
     "execution_count": 4,
     "metadata": {},
     "output_type": "execute_result"
    }
   ],
   "source": [
    "auction_events['bid_price'].nunique()"
   ]
  },
  {
   "cell_type": "markdown",
   "metadata": {},
   "source": [
    "### We have total 10 different prices and the corresponding win rates for each price. \n",
    "### The data size is not large enough to do proper model training and doing train-val-test split will lead to very small data size for training.\n",
    "### Let's explore if we can build some heuristic based decisions"
   ]
  },
  {
   "cell_type": "code",
   "execution_count": 5,
   "metadata": {},
   "outputs": [
    {
     "data": {
      "text/plain": [
       "{0.01: 100000,\n",
       " 0.1: 10000,\n",
       " 0.2: 10000000,\n",
       " 0.4: 1000000,\n",
       " 0.5: 100000,\n",
       " 0.75: 10000,\n",
       " 1.0: 1000,\n",
       " 2.0: 100,\n",
       " 5.0: 10,\n",
       " 9.0: 1}"
      ]
     },
     "execution_count": 5,
     "metadata": {},
     "output_type": "execute_result"
    }
   ],
   "source": [
    "event_counts = auction_events.groupby('bid_price')['events'].sum().reset_index().set_index('bid_price').to_dict()['events']\n",
    "event_counts"
   ]
  },
  {
   "cell_type": "code",
   "execution_count": 6,
   "metadata": {},
   "outputs": [],
   "source": [
    "#Add a column in auction_events \n",
    "auction_events['total_events'] = auction_events['bid_price'].apply(lambda x: event_counts[x])"
   ]
  },
  {
   "cell_type": "code",
   "execution_count": 7,
   "metadata": {},
   "outputs": [
    {
     "data": {
      "text/html": [
       "<div>\n",
       "<style scoped>\n",
       "    .dataframe tbody tr th:only-of-type {\n",
       "        vertical-align: middle;\n",
       "    }\n",
       "\n",
       "    .dataframe tbody tr th {\n",
       "        vertical-align: top;\n",
       "    }\n",
       "\n",
       "    .dataframe thead th {\n",
       "        text-align: right;\n",
       "    }\n",
       "</style>\n",
       "<table border=\"1\" class=\"dataframe\">\n",
       "  <thead>\n",
       "    <tr style=\"text-align: right;\">\n",
       "      <th></th>\n",
       "      <th>app</th>\n",
       "      <th>bid_price</th>\n",
       "      <th>win</th>\n",
       "      <th>events</th>\n",
       "      <th>total_events</th>\n",
       "    </tr>\n",
       "  </thead>\n",
       "  <tbody>\n",
       "    <tr>\n",
       "      <th>1</th>\n",
       "      <td>A</td>\n",
       "      <td>0.01</td>\n",
       "      <td>1</td>\n",
       "      <td>0</td>\n",
       "      <td>100000</td>\n",
       "    </tr>\n",
       "    <tr>\n",
       "      <th>3</th>\n",
       "      <td>A</td>\n",
       "      <td>0.10</td>\n",
       "      <td>1</td>\n",
       "      <td>3000</td>\n",
       "      <td>10000</td>\n",
       "    </tr>\n",
       "    <tr>\n",
       "      <th>5</th>\n",
       "      <td>A</td>\n",
       "      <td>0.20</td>\n",
       "      <td>1</td>\n",
       "      <td>2000000</td>\n",
       "      <td>10000000</td>\n",
       "    </tr>\n",
       "    <tr>\n",
       "      <th>7</th>\n",
       "      <td>A</td>\n",
       "      <td>0.40</td>\n",
       "      <td>1</td>\n",
       "      <td>300000</td>\n",
       "      <td>1000000</td>\n",
       "    </tr>\n",
       "    <tr>\n",
       "      <th>9</th>\n",
       "      <td>A</td>\n",
       "      <td>0.50</td>\n",
       "      <td>1</td>\n",
       "      <td>20000</td>\n",
       "      <td>100000</td>\n",
       "    </tr>\n",
       "  </tbody>\n",
       "</table>\n",
       "</div>"
      ],
      "text/plain": [
       "  app  bid_price  win   events  total_events\n",
       "1   A       0.01    1        0        100000\n",
       "3   A       0.10    1     3000         10000\n",
       "5   A       0.20    1  2000000      10000000\n",
       "7   A       0.40    1   300000       1000000\n",
       "9   A       0.50    1    20000        100000"
      ]
     },
     "execution_count": 7,
     "metadata": {},
     "output_type": "execute_result"
    }
   ],
   "source": [
    "# Keep only the columns for the wins\n",
    "auction_events = auction_events[auction_events['win'] == 1]\n",
    "auction_events.head()"
   ]
  },
  {
   "cell_type": "code",
   "execution_count": 8,
   "metadata": {},
   "outputs": [
    {
     "name": "stderr",
     "output_type": "stream",
     "text": [
      "/var/folders/c8/zycq9f9148x9y4_9krjnpblsj3zskx/T/ipykernel_2629/1027027971.py:2: SettingWithCopyWarning: \n",
      "A value is trying to be set on a copy of a slice from a DataFrame.\n",
      "Try using .loc[row_indexer,col_indexer] = value instead\n",
      "\n",
      "See the caveats in the documentation: https://pandas.pydata.org/pandas-docs/stable/user_guide/indexing.html#returning-a-view-versus-a-copy\n",
      "  auction_events['win_rate'] = auction_events['events'] / auction_events['total_events']\n"
     ]
    },
    {
     "data": {
      "text/html": [
       "<div>\n",
       "<style scoped>\n",
       "    .dataframe tbody tr th:only-of-type {\n",
       "        vertical-align: middle;\n",
       "    }\n",
       "\n",
       "    .dataframe tbody tr th {\n",
       "        vertical-align: top;\n",
       "    }\n",
       "\n",
       "    .dataframe thead th {\n",
       "        text-align: right;\n",
       "    }\n",
       "</style>\n",
       "<table border=\"1\" class=\"dataframe\">\n",
       "  <thead>\n",
       "    <tr style=\"text-align: right;\">\n",
       "      <th></th>\n",
       "      <th>app</th>\n",
       "      <th>bid_price</th>\n",
       "      <th>win</th>\n",
       "      <th>events</th>\n",
       "      <th>total_events</th>\n",
       "      <th>win_rate</th>\n",
       "    </tr>\n",
       "  </thead>\n",
       "  <tbody>\n",
       "    <tr>\n",
       "      <th>1</th>\n",
       "      <td>A</td>\n",
       "      <td>0.01</td>\n",
       "      <td>1</td>\n",
       "      <td>0</td>\n",
       "      <td>100000</td>\n",
       "      <td>0.0</td>\n",
       "    </tr>\n",
       "    <tr>\n",
       "      <th>3</th>\n",
       "      <td>A</td>\n",
       "      <td>0.10</td>\n",
       "      <td>1</td>\n",
       "      <td>3000</td>\n",
       "      <td>10000</td>\n",
       "      <td>0.3</td>\n",
       "    </tr>\n",
       "    <tr>\n",
       "      <th>5</th>\n",
       "      <td>A</td>\n",
       "      <td>0.20</td>\n",
       "      <td>1</td>\n",
       "      <td>2000000</td>\n",
       "      <td>10000000</td>\n",
       "      <td>0.2</td>\n",
       "    </tr>\n",
       "    <tr>\n",
       "      <th>7</th>\n",
       "      <td>A</td>\n",
       "      <td>0.40</td>\n",
       "      <td>1</td>\n",
       "      <td>300000</td>\n",
       "      <td>1000000</td>\n",
       "      <td>0.3</td>\n",
       "    </tr>\n",
       "    <tr>\n",
       "      <th>9</th>\n",
       "      <td>A</td>\n",
       "      <td>0.50</td>\n",
       "      <td>1</td>\n",
       "      <td>20000</td>\n",
       "      <td>100000</td>\n",
       "      <td>0.2</td>\n",
       "    </tr>\n",
       "  </tbody>\n",
       "</table>\n",
       "</div>"
      ],
      "text/plain": [
       "  app  bid_price  win   events  total_events  win_rate\n",
       "1   A       0.01    1        0        100000       0.0\n",
       "3   A       0.10    1     3000         10000       0.3\n",
       "5   A       0.20    1  2000000      10000000       0.2\n",
       "7   A       0.40    1   300000       1000000       0.3\n",
       "9   A       0.50    1    20000        100000       0.2"
      ]
     },
     "execution_count": 8,
     "metadata": {},
     "output_type": "execute_result"
    }
   ],
   "source": [
    "# add win rate column\n",
    "auction_events['win_rate'] = auction_events['events'] / auction_events['total_events']\n",
    "auction_events.head()"
   ]
  },
  {
   "cell_type": "code",
   "execution_count": 9,
   "metadata": {},
   "outputs": [
    {
     "data": {
      "image/png": "[encoded data removed]",
      "text/plain": [
       "<Figure size 1000x600 with 1 Axes>"
      ]
     },
     "metadata": {},
     "output_type": "display_data"
    }
   ],
   "source": [
    "# Let's plt win_rate with bid_price to see if there is any pattern\n",
    "\n",
    "import matplotlib.pyplot as plt\n",
    "\n",
    "# Let's plot the same graph with grid lines\n",
    "plt.figure(figsize=(10, 6))\n",
    "plt.scatter(auction_events['bid_price'], auction_events['win_rate'])\n",
    "plt.xlabel('Bid Price')\n",
    "plt.ylabel('Win Rate')\n",
    "plt.title('Win Rate vs Bid Price')\n",
    "plt.grid(True)\n",
    "plt.show()\n",
    "\n",
    "\n"
   ]
  },
  {
   "cell_type": "markdown",
   "metadata": {},
   "source": [
    "### The chart does show a good logistic curve. We can use this curve to predict the win rate for a bid response at a given price.\n"
   ]
  },
  {
   "cell_type": "markdown",
   "metadata": {},
   "source": [
    "### Fitting a logistic regression model with only 10 data points would be prone to overfitting.\n",
    "### Let's use Leave One Out Cross Validation to estimate the win rate for a bid response at a given price, while fitting Logistic Regression model\n"
   ]
  },
  {
   "cell_type": "code",
   "execution_count": 10,
   "metadata": {},
   "outputs": [],
   "source": [
    "from sklearn.linear_model import LogisticRegression\n",
    "from sklearn.model_selection import LeaveOneOut\n",
    "from sklearn.metrics import accuracy_score, f1_score"
   ]
  },
  {
   "cell_type": "code",
   "execution_count": 11,
   "metadata": {},
   "outputs": [],
   "source": [
    "# Let's create X and y for the model\n",
    "X = auction_events[['bid_price']]\n",
    "y = auction_events['win_rate']"
   ]
  },
  {
   "cell_type": "code",
   "execution_count": 12,
   "metadata": {},
   "outputs": [
    {
     "data": {
      "text/html": [
       "<div>\n",
       "<style scoped>\n",
       "    .dataframe tbody tr th:only-of-type {\n",
       "        vertical-align: middle;\n",
       "    }\n",
       "\n",
       "    .dataframe tbody tr th {\n",
       "        vertical-align: top;\n",
       "    }\n",
       "\n",
       "    .dataframe thead th {\n",
       "        text-align: right;\n",
       "    }\n",
       "</style>\n",
       "<table border=\"1\" class=\"dataframe\">\n",
       "  <thead>\n",
       "    <tr style=\"text-align: right;\">\n",
       "      <th></th>\n",
       "      <th>bid_price</th>\n",
       "    </tr>\n",
       "  </thead>\n",
       "  <tbody>\n",
       "    <tr>\n",
       "      <th>1</th>\n",
       "      <td>0.01</td>\n",
       "    </tr>\n",
       "    <tr>\n",
       "      <th>3</th>\n",
       "      <td>0.10</td>\n",
       "    </tr>\n",
       "    <tr>\n",
       "      <th>5</th>\n",
       "      <td>0.20</td>\n",
       "    </tr>\n",
       "    <tr>\n",
       "      <th>7</th>\n",
       "      <td>0.40</td>\n",
       "    </tr>\n",
       "    <tr>\n",
       "      <th>9</th>\n",
       "      <td>0.50</td>\n",
       "    </tr>\n",
       "  </tbody>\n",
       "</table>\n",
       "</div>"
      ],
      "text/plain": [
       "   bid_price\n",
       "1       0.01\n",
       "3       0.10\n",
       "5       0.20\n",
       "7       0.40\n",
       "9       0.50"
      ]
     },
     "execution_count": 12,
     "metadata": {},
     "output_type": "execute_result"
    }
   ],
   "source": [
    "X.head()"
   ]
  },
  {
   "cell_type": "code",
   "execution_count": 13,
   "metadata": {},
   "outputs": [],
   "source": [
    "# y contains a series of float values. We need to convert it to binary values\n",
    "# Let's convert y to binary values\n",
    "# We need to select a threshold to convert the win_rate to binary values. Looking at the chart, we can select 0.6 as the threshold\n",
    "y = (y >= 0.6).astype(int)"
   ]
  },
  {
   "cell_type": "code",
   "execution_count": 14,
   "metadata": {},
   "outputs": [
    {
     "name": "stdout",
     "output_type": "stream",
     "text": [
      "Average accuracy: 0.8\n",
      "Average F1 Score: 0.2\n"
     ]
    },
    {
     "name": "stderr",
     "output_type": "stream",
     "text": [
      "/Users/sukant.kumar/Documents/personal/assignment/verve/verve-data-science-interview/ml_env/lib/python3.9/site-packages/sklearn/metrics/_classification.py:1565: UndefinedMetricWarning: F-score is ill-defined and being set to 0.0 due to no true nor predicted samples. Use `zero_division` parameter to control this behavior.\n",
      "  _warn_prf(average, modifier, f\"{metric.capitalize()} is\", len(result))\n",
      "/Users/sukant.kumar/Documents/personal/assignment/verve/verve-data-science-interview/ml_env/lib/python3.9/site-packages/sklearn/metrics/_classification.py:1565: UndefinedMetricWarning: F-score is ill-defined and being set to 0.0 due to no true nor predicted samples. Use `zero_division` parameter to control this behavior.\n",
      "  _warn_prf(average, modifier, f\"{metric.capitalize()} is\", len(result))\n",
      "/Users/sukant.kumar/Documents/personal/assignment/verve/verve-data-science-interview/ml_env/lib/python3.9/site-packages/sklearn/metrics/_classification.py:1565: UndefinedMetricWarning: F-score is ill-defined and being set to 0.0 due to no true nor predicted samples. Use `zero_division` parameter to control this behavior.\n",
      "  _warn_prf(average, modifier, f\"{metric.capitalize()} is\", len(result))\n",
      "/Users/sukant.kumar/Documents/personal/assignment/verve/verve-data-science-interview/ml_env/lib/python3.9/site-packages/sklearn/metrics/_classification.py:1565: UndefinedMetricWarning: F-score is ill-defined and being set to 0.0 due to no true nor predicted samples. Use `zero_division` parameter to control this behavior.\n",
      "  _warn_prf(average, modifier, f\"{metric.capitalize()} is\", len(result))\n",
      "/Users/sukant.kumar/Documents/personal/assignment/verve/verve-data-science-interview/ml_env/lib/python3.9/site-packages/sklearn/metrics/_classification.py:1565: UndefinedMetricWarning: F-score is ill-defined and being set to 0.0 due to no true nor predicted samples. Use `zero_division` parameter to control this behavior.\n",
      "  _warn_prf(average, modifier, f\"{metric.capitalize()} is\", len(result))\n",
      "/Users/sukant.kumar/Documents/personal/assignment/verve/verve-data-science-interview/ml_env/lib/python3.9/site-packages/sklearn/metrics/_classification.py:1565: UndefinedMetricWarning: F-score is ill-defined and being set to 0.0 due to no true nor predicted samples. Use `zero_division` parameter to control this behavior.\n",
      "  _warn_prf(average, modifier, f\"{metric.capitalize()} is\", len(result))\n"
     ]
    }
   ],
   "source": [
    "# Fit the model\n",
    "model = LogisticRegression(random_state=100)\n",
    "loo = LeaveOneOut()\n",
    "acc_scores = []\n",
    "f1_scores = []\n",
    "\n",
    "for train_idx, test_idx in loo.split(X):\n",
    "    # Split the data\n",
    "    X_train, X_test = X.iloc[train_idx], X.iloc[test_idx]\n",
    "    y_train, y_test = y.iloc[train_idx], y.iloc[test_idx]\n",
    "    \n",
    "    # Fit the model and make predictions\n",
    "    model.fit(X_train, y_train)\n",
    "    prediction = model.predict(X_test)\n",
    "\n",
    "    # Calculate the accuracy and F1 score\n",
    "    acc_scores.append(accuracy_score(y_test, prediction))\n",
    "    f1_scores.append(f1_score(y_test, prediction))\n",
    "    \n",
    "\n",
    "print(\"Average accuracy:\", sum(acc_scores) / len(acc_scores))\n",
    "print(\"Average F1 Score:\", sum(f1_scores) / len(f1_scores))"
   ]
  },
  {
   "cell_type": "markdown",
   "metadata": {},
   "source": [
    "### As expected, the Accuracy is high, but we are getting a low F1 Score\n",
    "### There is not enough data to train a proper model."
   ]
  },
  {
   "cell_type": "markdown",
   "metadata": {},
   "source": [
    "### Let's check if we add some regularisation, will that help or not"
   ]
  },
  {
   "cell_type": "code",
   "execution_count": 15,
   "metadata": {},
   "outputs": [
    {
     "name": "stdout",
     "output_type": "stream",
     "text": [
      "Average accuracy: 0.8\n",
      "Average F1 Score: 0.2\n"
     ]
    },
    {
     "name": "stderr",
     "output_type": "stream",
     "text": [
      "/Users/sukant.kumar/Documents/personal/assignment/verve/verve-data-science-interview/ml_env/lib/python3.9/site-packages/sklearn/metrics/_classification.py:1565: UndefinedMetricWarning: F-score is ill-defined and being set to 0.0 due to no true nor predicted samples. Use `zero_division` parameter to control this behavior.\n",
      "  _warn_prf(average, modifier, f\"{metric.capitalize()} is\", len(result))\n",
      "/Users/sukant.kumar/Documents/personal/assignment/verve/verve-data-science-interview/ml_env/lib/python3.9/site-packages/sklearn/metrics/_classification.py:1565: UndefinedMetricWarning: F-score is ill-defined and being set to 0.0 due to no true nor predicted samples. Use `zero_division` parameter to control this behavior.\n",
      "  _warn_prf(average, modifier, f\"{metric.capitalize()} is\", len(result))\n",
      "/Users/sukant.kumar/Documents/personal/assignment/verve/verve-data-science-interview/ml_env/lib/python3.9/site-packages/sklearn/metrics/_classification.py:1565: UndefinedMetricWarning: F-score is ill-defined and being set to 0.0 due to no true nor predicted samples. Use `zero_division` parameter to control this behavior.\n",
      "  _warn_prf(average, modifier, f\"{metric.capitalize()} is\", len(result))\n",
      "/Users/sukant.kumar/Documents/personal/assignment/verve/verve-data-science-interview/ml_env/lib/python3.9/site-packages/sklearn/metrics/_classification.py:1565: UndefinedMetricWarning: F-score is ill-defined and being set to 0.0 due to no true nor predicted samples. Use `zero_division` parameter to control this behavior.\n",
      "  _warn_prf(average, modifier, f\"{metric.capitalize()} is\", len(result))\n",
      "/Users/sukant.kumar/Documents/personal/assignment/verve/verve-data-science-interview/ml_env/lib/python3.9/site-packages/sklearn/metrics/_classification.py:1565: UndefinedMetricWarning: F-score is ill-defined and being set to 0.0 due to no true nor predicted samples. Use `zero_division` parameter to control this behavior.\n",
      "  _warn_prf(average, modifier, f\"{metric.capitalize()} is\", len(result))\n",
      "/Users/sukant.kumar/Documents/personal/assignment/verve/verve-data-science-interview/ml_env/lib/python3.9/site-packages/sklearn/metrics/_classification.py:1565: UndefinedMetricWarning: F-score is ill-defined and being set to 0.0 due to no true nor predicted samples. Use `zero_division` parameter to control this behavior.\n",
      "  _warn_prf(average, modifier, f\"{metric.capitalize()} is\", len(result))\n"
     ]
    }
   ],
   "source": [
    "# let's run the same kind of models, but with some added regularization\n",
    "from sklearn.linear_model import LogisticRegression\n",
    "from sklearn.model_selection import LeaveOneOut\n",
    "from sklearn.metrics import accuracy_score, f1_score\n",
    "\n",
    "# Let's create X and y for the model\n",
    "X = auction_events[['bid_price']]\n",
    "y = auction_events['win_rate']\n",
    "\n",
    "# y contains a series of float values. We need to convert it to binary values\n",
    "# Let's convert y to binary values\n",
    "# We need to select a threshold to convert the win_rate to binary values. Looking at the chart, we can select 0.6 as the threshold\n",
    "y = (y >= 0.6).astype(int)\n",
    "\n",
    "# Fit the model\n",
    "model = LogisticRegression(random_state=100, C=0.5)\n",
    "\n",
    "loo = LeaveOneOut()\n",
    "acc_scores = []\n",
    "f1_scores = []\n",
    "\n",
    "for train_idx, test_idx in loo.split(X):\n",
    "    # Split the data\n",
    "    X_train, X_test = X.iloc[train_idx], X.iloc[test_idx]\n",
    "    y_train, y_test = y.iloc[train_idx], y.iloc[test_idx]\n",
    "    \n",
    "    # Fit the model and make predictions\n",
    "    model.fit(X_train, y_train)\n",
    "    prediction = model.predict(X_test)\n",
    "\n",
    "    # Calculate the accuracy and F1 score\n",
    "    acc_scores.append(accuracy_score(y_test, prediction))\n",
    "    f1_scores.append(f1_score(y_test, prediction))\n",
    "\n",
    "print(\"Average accuracy:\", sum(acc_scores) / len(acc_scores))\n",
    "print(\"Average F1 Score:\", sum(f1_scores) / len(f1_scores))"
   ]
  },
  {
   "cell_type": "markdown",
   "metadata": {},
   "source": [
    "## Even adding regularisation is not helping much. The model is still overfitting the data.\n",
    "### Let's just fit a simple logistic curve to the data using scipt and estimate the coefficients of the curve"
   ]
  },
  {
   "cell_type": "code",
   "execution_count": 16,
   "metadata": {},
   "outputs": [
    {
     "data": {
      "text/html": [
       "<div>\n",
       "<style scoped>\n",
       "    .dataframe tbody tr th:only-of-type {\n",
       "        vertical-align: middle;\n",
       "    }\n",
       "\n",
       "    .dataframe tbody tr th {\n",
       "        vertical-align: top;\n",
       "    }\n",
       "\n",
       "    .dataframe thead th {\n",
       "        text-align: right;\n",
       "    }\n",
       "</style>\n",
       "<table border=\"1\" class=\"dataframe\">\n",
       "  <thead>\n",
       "    <tr style=\"text-align: right;\">\n",
       "      <th></th>\n",
       "      <th>app</th>\n",
       "      <th>bid_price</th>\n",
       "      <th>win</th>\n",
       "      <th>events</th>\n",
       "      <th>total_events</th>\n",
       "      <th>win_rate</th>\n",
       "    </tr>\n",
       "  </thead>\n",
       "  <tbody>\n",
       "    <tr>\n",
       "      <th>1</th>\n",
       "      <td>A</td>\n",
       "      <td>0.01</td>\n",
       "      <td>1</td>\n",
       "      <td>0</td>\n",
       "      <td>100000</td>\n",
       "      <td>0.0</td>\n",
       "    </tr>\n",
       "    <tr>\n",
       "      <th>3</th>\n",
       "      <td>A</td>\n",
       "      <td>0.10</td>\n",
       "      <td>1</td>\n",
       "      <td>3000</td>\n",
       "      <td>10000</td>\n",
       "      <td>0.3</td>\n",
       "    </tr>\n",
       "    <tr>\n",
       "      <th>5</th>\n",
       "      <td>A</td>\n",
       "      <td>0.20</td>\n",
       "      <td>1</td>\n",
       "      <td>2000000</td>\n",
       "      <td>10000000</td>\n",
       "      <td>0.2</td>\n",
       "    </tr>\n",
       "    <tr>\n",
       "      <th>7</th>\n",
       "      <td>A</td>\n",
       "      <td>0.40</td>\n",
       "      <td>1</td>\n",
       "      <td>300000</td>\n",
       "      <td>1000000</td>\n",
       "      <td>0.3</td>\n",
       "    </tr>\n",
       "    <tr>\n",
       "      <th>9</th>\n",
       "      <td>A</td>\n",
       "      <td>0.50</td>\n",
       "      <td>1</td>\n",
       "      <td>20000</td>\n",
       "      <td>100000</td>\n",
       "      <td>0.2</td>\n",
       "    </tr>\n",
       "    <tr>\n",
       "      <th>11</th>\n",
       "      <td>A</td>\n",
       "      <td>0.75</td>\n",
       "      <td>1</td>\n",
       "      <td>3000</td>\n",
       "      <td>10000</td>\n",
       "      <td>0.3</td>\n",
       "    </tr>\n",
       "    <tr>\n",
       "      <th>13</th>\n",
       "      <td>A</td>\n",
       "      <td>1.00</td>\n",
       "      <td>1</td>\n",
       "      <td>600</td>\n",
       "      <td>1000</td>\n",
       "      <td>0.6</td>\n",
       "    </tr>\n",
       "    <tr>\n",
       "      <th>15</th>\n",
       "      <td>A</td>\n",
       "      <td>2.00</td>\n",
       "      <td>1</td>\n",
       "      <td>70</td>\n",
       "      <td>100</td>\n",
       "      <td>0.7</td>\n",
       "    </tr>\n",
       "    <tr>\n",
       "      <th>17</th>\n",
       "      <td>A</td>\n",
       "      <td>5.00</td>\n",
       "      <td>1</td>\n",
       "      <td>8</td>\n",
       "      <td>10</td>\n",
       "      <td>0.8</td>\n",
       "    </tr>\n",
       "    <tr>\n",
       "      <th>19</th>\n",
       "      <td>A</td>\n",
       "      <td>9.00</td>\n",
       "      <td>1</td>\n",
       "      <td>1</td>\n",
       "      <td>1</td>\n",
       "      <td>1.0</td>\n",
       "    </tr>\n",
       "  </tbody>\n",
       "</table>\n",
       "</div>"
      ],
      "text/plain": [
       "   app  bid_price  win   events  total_events  win_rate\n",
       "1    A       0.01    1        0        100000       0.0\n",
       "3    A       0.10    1     3000         10000       0.3\n",
       "5    A       0.20    1  2000000      10000000       0.2\n",
       "7    A       0.40    1   300000       1000000       0.3\n",
       "9    A       0.50    1    20000        100000       0.2\n",
       "11   A       0.75    1     3000         10000       0.3\n",
       "13   A       1.00    1      600          1000       0.6\n",
       "15   A       2.00    1       70           100       0.7\n",
       "17   A       5.00    1        8            10       0.8\n",
       "19   A       9.00    1        1             1       1.0"
      ]
     },
     "execution_count": 16,
     "metadata": {},
     "output_type": "execute_result"
    }
   ],
   "source": [
    "auction_events"
   ]
  },
  {
   "cell_type": "code",
   "execution_count": 17,
   "metadata": {},
   "outputs": [],
   "source": [
    "#Import function from scipy\n",
    "from scipy.optimize import curve_fit"
   ]
  },
  {
   "cell_type": "code",
   "execution_count": 18,
   "metadata": {},
   "outputs": [],
   "source": [
    "# Define the logistic function\n",
    "def logistic_function(x, beta_0, beta_1):\n",
    "    return 1 / (1 + np.exp(-(beta_0 + beta_1 * x)))"
   ]
  },
  {
   "cell_type": "code",
   "execution_count": 19,
   "metadata": {},
   "outputs": [],
   "source": [
    "# Get numpy arrays\n",
    "x = auction_events['bid_price'].values\n",
    "y = auction_events['win_rate'].values"
   ]
  },
  {
   "cell_type": "code",
   "execution_count": 20,
   "metadata": {},
   "outputs": [],
   "source": [
    "# Fit the logistic function to the data\n",
    "params, covariance = curve_fit(logistic_function, x, y, p0=[0, 1])  # Initial guess for beta_0 and beta_1\n"
   ]
  },
  {
   "cell_type": "code",
   "execution_count": 21,
   "metadata": {},
   "outputs": [
    {
     "name": "stdout",
     "output_type": "stream",
     "text": [
      "Intercept (beta_0): -1.6248611920057825\n",
      "Coefficient (beta_1): 1.3824479363977695\n"
     ]
    }
   ],
   "source": [
    "# Extract the coefficients\n",
    "beta_0, beta_1 = params\n",
    "print(f\"Intercept (beta_0): {beta_0}\")\n",
    "print(f\"Coefficient (beta_1): {beta_1}\")"
   ]
  },
  {
   "cell_type": "code",
   "execution_count": 22,
   "metadata": {},
   "outputs": [],
   "source": [
    "def get_win_prob(bid_price):\n",
    "    return logistic_function(bid_price, beta_0, beta_1)"
   ]
  },
  {
   "cell_type": "markdown",
   "metadata": {},
   "source": [
    "### We'll be using this function - get_win_prob() to get the win rate for a bid response at a given price"
   ]
  },
  {
   "cell_type": "markdown",
   "metadata": {},
   "source": [
    "## Problem 2: We receive money from our advertisers if we deliver them a win. Lets say that our advertiser is willing to pay $0.50 per win. This then becomes the upper bound for the bid valuation that we can submit in response to the publisher. For example, if we submit a bid response of $0.40 and we win, then the advertiser pays us $0.50, we pay $0.40 to the publisher and we made a net revenue of $0.10 .\n",
    "\n",
    "## If our goal was to maximize net revenue, what is the most optimal bid valuation we should send in our response? Use your estimations from Problem1 and all other available information."
   ]
  },
  {
   "cell_type": "markdown",
   "metadata": {},
   "source": [
    "### Approach\n",
    "* First we need to calulcate total no of events, so lets take the sum of all the events\n",
    "* The ADVERTISER_PRICE is fixed at $0.50\n",
    "* We need to calculate the net revenue for each bid price and then select the bid price which gives the maximum net revenue\n",
    "* We have created a logistic curve where we can get the win rate for a bid response (PRICE) at a given price\n",
    "* This PRICE,p will give us the expected probability of Winning --> Using that we'll know how many events, we'll win at each price\n",
    "* The upper limit for PRICE is the ADVERTISER_PRICE. We'll vary the price in the range [0.01 - 0.50] and calculate the profit for each price\n",
    "* Profit = (ADVERTISER_PRICE - PRICE) * No of Wins\n",
    "* We'll calculate the profit for each price and then select the price which gives the maximum profit"
   ]
  },
  {
   "cell_type": "code",
   "execution_count": 23,
   "metadata": {},
   "outputs": [],
   "source": [
    "TOTAL_EVENTS = auction_events['total_events'].sum()\n",
    "ADVERTISER_PRICE = 0.5"
   ]
  },
  {
   "cell_type": "code",
   "execution_count": 33,
   "metadata": {},
   "outputs": [],
   "source": [
    "def get_total_wins(price):\n",
    "    win_prob = get_win_prob(price)\n",
    "    expected_wins = win_prob * TOTAL_EVENTS\n",
    "    return expected_wins\n",
    "\n",
    "def get_profit_margin(price):\n",
    "    return ADVERTISER_PRICE - price\n",
    "\n",
    "def get_profit(price):\n",
    "    expected_wins = get_total_wins(price)\n",
    "    profit_margin = get_profit_margin(price)\n",
    "    return expected_wins * profit_margin\n"
   ]
  },
  {
   "cell_type": "code",
   "execution_count": 34,
   "metadata": {},
   "outputs": [
    {
     "data": {
      "text/plain": [
       "(0.01, 0.5)"
      ]
     },
     "execution_count": 34,
     "metadata": {},
     "output_type": "execute_result"
    }
   ],
   "source": [
    "price_ranges = [p/100 for p in range(1,51)]\n",
    "price_ranges[0], price_ranges[-1]"
   ]
  },
  {
   "cell_type": "code",
   "execution_count": 35,
   "metadata": {},
   "outputs": [],
   "source": [
    "win_counts = [get_total_wins(price) for price in price_ranges]\n",
    "profit_margins = [get_profit_margin(price) for price in price_ranges]"
   ]
  },
  {
   "cell_type": "code",
   "execution_count": 37,
   "metadata": {},
   "outputs": [
    {
     "data": {
      "image/png": "[encoded data removed]",
      "text/plain": [
       "<Figure size 1000x600 with 2 Axes>"
      ]
     },
     "metadata": {},
     "output_type": "display_data"
    }
   ],
   "source": [
    "# Let's plot bid price on X-axis and win_counts and profit margins on Y-axis in the same plot\n",
    "fig, ax1 = plt.subplots(figsize=(10, 6))\n",
    "\n",
    "color = 'tab:red'\n",
    "ax1.set_xlabel('Bid Price')\n",
    "ax1.set_ylabel('Win Counts', color=color)\n",
    "ax1.plot(price_ranges, win_counts, color=color)\n",
    "ax1.tick_params(axis='y', labelcolor=color)\n",
    "\n",
    "ax2 = ax1.twinx()\n",
    "color = 'tab:blue'\n",
    "ax2.set_ylabel('Profit Margins', color=color)\n",
    "ax2.plot(price_ranges, profit_margins, color=color)\n",
    "ax2.tick_params(axis='y', labelcolor=color)\n",
    "\n",
    "fig.tight_layout()\n",
    "plt.show()"
   ]
  },
  {
   "cell_type": "markdown",
   "metadata": {},
   "source": [
    "## As we increase the bid price, the profit margin reduces linearly, as the advertiser price is fixed at $0.50\n",
    "## With increasing prices, the win_rate increases, which in turn increases the number of win events\n",
    "\n",
    "## Total Net Profit is product of win_rate and profit_margin\n",
    "## From the graph it seems like the optimal bid price is around $0.30"
   ]
  },
  {
   "cell_type": "code",
   "execution_count": 38,
   "metadata": {},
   "outputs": [
    {
     "data": {
      "image/png": "[encoded data removed]",
      "text/plain": [
       "<Figure size 1000x600 with 1 Axes>"
      ]
     },
     "metadata": {},
     "output_type": "display_data"
    }
   ],
   "source": [
    "total_profit = [get_profit(price) for price in price_ranges]\n",
    "\n",
    "plt.figure(figsize=(10, 6))\n",
    "plt.plot(price_ranges, total_profit)\n",
    "plt.xlabel('Bid Price')\n",
    "plt.ylabel('Total Profit')\n",
    "plt.title('Total Profit vs Bid Price')\n",
    "\n",
    "plt.grid(True)\n",
    "plt.show()"
   ]
  },
  {
   "cell_type": "markdown",
   "metadata": {},
   "source": [
    "## Total Net Profit is product of win_rate and profit_margin\n",
    "## From the graph, the curve of Total Net Profit has slight parabolic shape, but overall it seems a sloping downwards curve\n",
    "## From this graph, it would suggest that the optimal price is near the start of the range\n",
    "## If that i true, it would mean that the total profit is dominated by the PROFIT_MARGIN and not the WIN_RATE"
   ]
  },
  {
   "cell_type": "code",
   "execution_count": 39,
   "metadata": {},
   "outputs": [
    {
     "data": {
      "text/plain": [
       "(np.int64(0), 0.01)"
      ]
     },
     "execution_count": 39,
     "metadata": {},
     "output_type": "execute_result"
    }
   ],
   "source": [
    "np.argmax(total_profit), price_ranges[np.argmax(total_profit)]"
   ]
  },
  {
   "cell_type": "markdown",
   "metadata": {},
   "source": [
    "## Based on this analysis, it seems that the lower bid price is more optimal than the higher bid price"
   ]
  },
  {
   "cell_type": "markdown",
   "metadata": {},
   "source": [
    "# The optimal bid price comes around to : $0.01"
   ]
  },
  {
   "cell_type": "code",
   "execution_count": null,
   "metadata": {},
   "outputs": [],
   "source": []
  }
 ],
 "metadata": {
  "kernelspec": {
   "display_name": "ml_env",
   "language": "python",
   "name": "python3"
  },
  "language_info": {
   "codemirror_mode": {
    "name": "ipython",
    "version": 3
   },
   "file_extension": ".py",
   "mimetype": "text/x-python",
   "name": "python",
   "nbconvert_exporter": "python",
   "pygments_lexer": "ipython3",
   "version": "3.9.6"
  }
 },
 "nbformat": 4,
 "nbformat_minor": 2
}
